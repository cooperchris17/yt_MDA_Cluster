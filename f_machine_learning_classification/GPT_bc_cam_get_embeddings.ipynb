{
 "cells": [
  {
   "cell_type": "markdown",
   "metadata": {},
   "source": [
    "Adapted from the Open AI Cookbook\n",
    "- https://github.com/openai/openai-cookbook/blob/main/examples/Get_embeddings_from_dataset.ipynb"
   ]
  },
  {
   "cell_type": "code",
   "execution_count": 1,
   "metadata": {},
   "outputs": [],
   "source": [
    "import pandas as pd\n",
    "import tiktoken\n",
    "from openai.embeddings_utils import get_embedding\n",
    "\n",
    "# embedding model parameters\n",
    "embedding_model = \"text-embedding-ada-002\"\n",
    "embedding_encoding = \"cl100k_base\"  # this is the encoding for text-embedding-ada-002\n",
    "max_tokens = 8000  # the maximum for text-embedding-ada-002 is 8191"
   ]
  },
  {
   "cell_type": "code",
   "execution_count": 11,
   "metadata": {},
   "outputs": [
    {
     "data": {
      "text/html": [
       "<div>\n",
       "<style scoped>\n",
       "    .dataframe tbody tr th:only-of-type {\n",
       "        vertical-align: middle;\n",
       "    }\n",
       "\n",
       "    .dataframe tbody tr th {\n",
       "        vertical-align: top;\n",
       "    }\n",
       "\n",
       "    .dataframe thead th {\n",
       "        text-align: right;\n",
       "    }\n",
       "</style>\n",
       "<table border=\"1\" class=\"dataframe\">\n",
       "  <thead>\n",
       "    <tr style=\"text-align: right;\">\n",
       "      <th></th>\n",
       "      <th>filename</th>\n",
       "      <th>text</th>\n",
       "      <th>cefr</th>\n",
       "    </tr>\n",
       "  </thead>\n",
       "  <tbody>\n",
       "    <tr>\n",
       "      <th>0</th>\n",
       "      <td>A1Movers_1_1</td>\n",
       "      <td>Look, Grandpa. My friend's family are in the g...</td>\n",
       "      <td>A1</td>\n",
       "    </tr>\n",
       "    <tr>\n",
       "      <th>1</th>\n",
       "      <td>A1Movers_1_2</td>\n",
       "      <td>Come quickly, children. The train's waiting to...</td>\n",
       "      <td>A1</td>\n",
       "    </tr>\n",
       "    <tr>\n",
       "      <th>2</th>\n",
       "      <td>A1Movers_1_3</td>\n",
       "      <td>Hello, Mrs Castle. Hello Sally, Oh I'm tired. ...</td>\n",
       "      <td>A1</td>\n",
       "    </tr>\n",
       "    <tr>\n",
       "      <th>3</th>\n",
       "      <td>A1Movers_1_4</td>\n",
       "      <td>Dad, come and watch this DVD with me. What's i...</td>\n",
       "      <td>A1</td>\n",
       "    </tr>\n",
       "    <tr>\n",
       "      <th>4</th>\n",
       "      <td>A1Movers_1_5</td>\n",
       "      <td>Can you colour this mountain picture now? Yes!...</td>\n",
       "      <td>A1</td>\n",
       "    </tr>\n",
       "    <tr>\n",
       "      <th>...</th>\n",
       "      <td>...</td>\n",
       "      <td>...</td>\n",
       "      <td>...</td>\n",
       "    </tr>\n",
       "    <tr>\n",
       "      <th>723</th>\n",
       "      <td>C2Prof_16-20</td>\n",
       "      <td>Today, we're talking to marine biologists Gina...</td>\n",
       "      <td>C</td>\n",
       "    </tr>\n",
       "    <tr>\n",
       "      <th>724</th>\n",
       "      <td>C2Prof_21-30</td>\n",
       "      <td>I knew I'd be short of money if I didn't work ...</td>\n",
       "      <td>C</td>\n",
       "    </tr>\n",
       "    <tr>\n",
       "      <th>725</th>\n",
       "      <td>C2Prof_3-4</td>\n",
       "      <td>Last year, Tim Fitzgerald exhibited photograph...</td>\n",
       "      <td>C</td>\n",
       "    </tr>\n",
       "    <tr>\n",
       "      <th>726</th>\n",
       "      <td>C2Prof_5-6</td>\n",
       "      <td>One of my own thoughts about this piece is the...</td>\n",
       "      <td>C</td>\n",
       "    </tr>\n",
       "    <tr>\n",
       "      <th>727</th>\n",
       "      <td>C2Prof_7-15</td>\n",
       "      <td>I want to talk to you today about a spice whic...</td>\n",
       "      <td>C</td>\n",
       "    </tr>\n",
       "  </tbody>\n",
       "</table>\n",
       "<p>728 rows × 3 columns</p>\n",
       "</div>"
      ],
      "text/plain": [
       "         filename                                               text cefr\n",
       "0    A1Movers_1_1  Look, Grandpa. My friend's family are in the g...   A1\n",
       "1    A1Movers_1_2  Come quickly, children. The train's waiting to...   A1\n",
       "2    A1Movers_1_3  Hello, Mrs Castle. Hello Sally, Oh I'm tired. ...   A1\n",
       "3    A1Movers_1_4  Dad, come and watch this DVD with me. What's i...   A1\n",
       "4    A1Movers_1_5  Can you colour this mountain picture now? Yes!...   A1\n",
       "..            ...                                                ...  ...\n",
       "723  C2Prof_16-20  Today, we're talking to marine biologists Gina...    C\n",
       "724  C2Prof_21-30  I knew I'd be short of money if I didn't work ...    C\n",
       "725    C2Prof_3-4  Last year, Tim Fitzgerald exhibited photograph...    C\n",
       "726    C2Prof_5-6  One of my own thoughts about this piece is the...    C\n",
       "727   C2Prof_7-15  I want to talk to you today about a spice whic...    C\n",
       "\n",
       "[728 rows x 3 columns]"
      ]
     },
     "execution_count": 11,
     "metadata": {},
     "output_type": "execute_result"
    }
   ],
   "source": [
    "# load and inspect dataset\n",
    "df = pd.read_csv(\"bc_cam_txt_df.csv\")\n",
    "# add a CEFR level column (created from the filename)\n",
    "df['cefr'] = df['filename'].apply(lambda x: x[:2])\n",
    "# convvert C1 and C2 to C (only 6 C2 texts)\n",
    "df['cefr'] = df['cefr'].replace({'C1': 'C', 'C2': 'C'})\n",
    "df"
   ]
  },
  {
   "cell_type": "code",
   "execution_count": 12,
   "metadata": {},
   "outputs": [
    {
     "data": {
      "text/html": [
       "<div>\n",
       "<style scoped>\n",
       "    .dataframe tbody tr th:only-of-type {\n",
       "        vertical-align: middle;\n",
       "    }\n",
       "\n",
       "    .dataframe tbody tr th {\n",
       "        vertical-align: top;\n",
       "    }\n",
       "\n",
       "    .dataframe thead th {\n",
       "        text-align: right;\n",
       "    }\n",
       "</style>\n",
       "<table border=\"1\" class=\"dataframe\">\n",
       "  <thead>\n",
       "    <tr style=\"text-align: right;\">\n",
       "      <th></th>\n",
       "      <th>filename</th>\n",
       "      <th>text</th>\n",
       "      <th>cefr</th>\n",
       "    </tr>\n",
       "  </thead>\n",
       "  <tbody>\n",
       "    <tr>\n",
       "      <th>0</th>\n",
       "      <td>A1Movers_1_1</td>\n",
       "      <td>Look, Grandpa. My friend's family are in the g...</td>\n",
       "      <td>A1</td>\n",
       "    </tr>\n",
       "    <tr>\n",
       "      <th>1</th>\n",
       "      <td>A1Movers_1_2</td>\n",
       "      <td>Come quickly, children. The train's waiting to...</td>\n",
       "      <td>A1</td>\n",
       "    </tr>\n",
       "    <tr>\n",
       "      <th>2</th>\n",
       "      <td>A1Movers_1_3</td>\n",
       "      <td>Hello, Mrs Castle. Hello Sally, Oh I'm tired. ...</td>\n",
       "      <td>A1</td>\n",
       "    </tr>\n",
       "    <tr>\n",
       "      <th>3</th>\n",
       "      <td>A1Movers_1_4</td>\n",
       "      <td>Dad, come and watch this DVD with me. What's i...</td>\n",
       "      <td>A1</td>\n",
       "    </tr>\n",
       "    <tr>\n",
       "      <th>4</th>\n",
       "      <td>A1Movers_1_5</td>\n",
       "      <td>Can you colour this mountain picture now? Yes!...</td>\n",
       "      <td>A1</td>\n",
       "    </tr>\n",
       "    <tr>\n",
       "      <th>...</th>\n",
       "      <td>...</td>\n",
       "      <td>...</td>\n",
       "      <td>...</td>\n",
       "    </tr>\n",
       "    <tr>\n",
       "      <th>723</th>\n",
       "      <td>C2Prof_16-20</td>\n",
       "      <td>Today, we're talking to marine biologists Gina...</td>\n",
       "      <td>C</td>\n",
       "    </tr>\n",
       "    <tr>\n",
       "      <th>724</th>\n",
       "      <td>C2Prof_21-30</td>\n",
       "      <td>I knew I'd be short of money if I didn't work ...</td>\n",
       "      <td>C</td>\n",
       "    </tr>\n",
       "    <tr>\n",
       "      <th>725</th>\n",
       "      <td>C2Prof_3-4</td>\n",
       "      <td>Last year, Tim Fitzgerald exhibited photograph...</td>\n",
       "      <td>C</td>\n",
       "    </tr>\n",
       "    <tr>\n",
       "      <th>726</th>\n",
       "      <td>C2Prof_5-6</td>\n",
       "      <td>One of my own thoughts about this piece is the...</td>\n",
       "      <td>C</td>\n",
       "    </tr>\n",
       "    <tr>\n",
       "      <th>727</th>\n",
       "      <td>C2Prof_7-15</td>\n",
       "      <td>I want to talk to you today about a spice whic...</td>\n",
       "      <td>C</td>\n",
       "    </tr>\n",
       "  </tbody>\n",
       "</table>\n",
       "<p>728 rows × 3 columns</p>\n",
       "</div>"
      ],
      "text/plain": [
       "         filename                                               text cefr\n",
       "0    A1Movers_1_1  Look, Grandpa. My friend's family are in the g...   A1\n",
       "1    A1Movers_1_2  Come quickly, children. The train's waiting to...   A1\n",
       "2    A1Movers_1_3  Hello, Mrs Castle. Hello Sally, Oh I'm tired. ...   A1\n",
       "3    A1Movers_1_4  Dad, come and watch this DVD with me. What's i...   A1\n",
       "4    A1Movers_1_5  Can you colour this mountain picture now? Yes!...   A1\n",
       "..            ...                                                ...  ...\n",
       "723  C2Prof_16-20  Today, we're talking to marine biologists Gina...    C\n",
       "724  C2Prof_21-30  I knew I'd be short of money if I didn't work ...    C\n",
       "725    C2Prof_3-4  Last year, Tim Fitzgerald exhibited photograph...    C\n",
       "726    C2Prof_5-6  One of my own thoughts about this piece is the...    C\n",
       "727   C2Prof_7-15  I want to talk to you today about a spice whic...    C\n",
       "\n",
       "[728 rows x 3 columns]"
      ]
     },
     "execution_count": 12,
     "metadata": {},
     "output_type": "execute_result"
    }
   ],
   "source": [
    "encoding = tiktoken.get_encoding(embedding_encoding)\n",
    "\n",
    "# Truncate texts that are too long to embed\n",
    "# actually I don't think I have any, but there could possibly be a YouTube video that is too long\n",
    "def truncate_text(text):\n",
    "    tokens = encoding.encode(text)\n",
    "    if len(tokens) > max_tokens:\n",
    "        tokens = tokens[:max_tokens]\n",
    "    return encoding.decode(tokens)\n",
    "\n",
    "df[\"text\"] = df[\"text\"].apply(truncate_text)\n",
    "df"
   ]
  },
  {
   "cell_type": "markdown",
   "metadata": {},
   "source": [
    "Get Embeddings and save them for future use\n",
    "- Ensure you have your API key set in your environment per the README: https://github.com/openai/openai-python#usage\n",
    "- I set the OPEN_AI_KEY environment variable in my Virtual Environment\n",
    "- It can also be set as a variable -> openai.api_key = \"sk-...\""
   ]
  },
  {
   "cell_type": "code",
   "execution_count": 13,
   "metadata": {},
   "outputs": [],
   "source": [
    "# This may take a few minutes\n",
    "df[\"embedding\"] = df.text.apply(lambda x: get_embedding(x, engine=embedding_model))\n",
    "df.to_csv(\"bc_cam_with_ada_002_embeddings.csv\")"
   ]
  },
  {
   "cell_type": "code",
   "execution_count": null,
   "metadata": {},
   "outputs": [],
   "source": []
  },
  {
   "cell_type": "markdown",
   "metadata": {},
   "source": [
    "Testing the truncation function (I did this before running the above code)"
   ]
  },
  {
   "cell_type": "code",
   "execution_count": 7,
   "metadata": {},
   "outputs": [
    {
     "name": "stdout",
     "output_type": "stream",
     "text": [
      "This is the end of the long text. \n"
     ]
    }
   ],
   "source": [
    "sentence = \"This is a sample sentence. \"\n",
    "long_text = sentence * 1600  # this will give you a text with approximately 8000 words\n",
    "\n",
    "# Add a different sentence at the end\n",
    "long_text += \"This is the end of the long text. \"\n",
    "\n",
    "print(long_text[-34:])"
   ]
  },
  {
   "cell_type": "code",
   "execution_count": 10,
   "metadata": {},
   "outputs": [
    {
     "name": "stdout",
     "output_type": "stream",
     "text": [
      "This is a sample sentence. This is\n"
     ]
    }
   ],
   "source": [
    "encoding = tiktoken.get_encoding(embedding_encoding)\n",
    "\n",
    "def truncate_text(text):\n",
    "    tokens = encoding.encode(text)\n",
    "    if len(tokens) > max_tokens:\n",
    "        tokens = tokens[:max_tokens]\n",
    "    return encoding.decode(tokens)\n",
    "\n",
    "truncated_text = truncate_text(long_text)\n",
    "\n",
    "print(truncated_text[-34:])"
   ]
  }
 ],
 "metadata": {
  "kernelspec": {
   "display_name": "cefr_gpt",
   "language": "python",
   "name": "cefr_gpt"
  },
  "language_info": {
   "codemirror_mode": {
    "name": "ipython",
    "version": 3
   },
   "file_extension": ".py",
   "mimetype": "text/x-python",
   "name": "python",
   "nbconvert_exporter": "python",
   "pygments_lexer": "ipython3",
   "version": "3.9.13"
  },
  "orig_nbformat": 4
 },
 "nbformat": 4,
 "nbformat_minor": 2
}
